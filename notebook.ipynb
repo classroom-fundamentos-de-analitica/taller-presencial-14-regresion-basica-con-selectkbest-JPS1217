{
 "cells": [
  {
   "cell_type": "markdown",
   "source": [
    "##\n",
    "## Inicio\n",
    "##"
   ],
   "metadata": {
    "collapsed": false
   },
   "id": "8953b5d3a764eafc"
  },
  {
   "cell_type": "code",
   "execution_count": 1,
   "id": "initial_id",
   "metadata": {
    "collapsed": true,
    "ExecuteTime": {
     "end_time": "2024-08-26T19:04:03.302507500Z",
     "start_time": "2024-08-26T19:04:03.263308600Z"
    }
   },
   "outputs": [],
   "source": [
    "def load_data():\n",
    "\n",
    "    import pandas as pd\n",
    "\n",
    "    dataset = pd.read_csv(\"auto_mpg.csv\")\n",
    "    dataset = dataset.dropna()\n",
    "    dataset[\"Origin\"] = dataset[\"Origin\"].map(\n",
    "        {1: \"USA\", 2: \"Europe\", 3: \"Japan\"},\n",
    "    )\n",
    "    y = dataset.pop(\"MPG\")\n",
    "    x = dataset.copy()\n",
    "\n",
    "    return x, y"
   ]
  },
  {
   "cell_type": "markdown",
   "source": [
    "##\n",
    "## Entrenamiento\n",
    "##"
   ],
   "metadata": {
    "collapsed": false
   },
   "id": "d5dbea6286983a4f"
  },
  {
   "cell_type": "code",
   "outputs": [],
   "source": [
    "def make_train_test_split(x, y):\n",
    "\n",
    "    from sklearn.model_selection import train_test_split\n",
    "\n",
    "    (x_train, x_test, y_train, y_test) = train_test_split(\n",
    "        x,\n",
    "        y,\n",
    "        test_size=0.25,\n",
    "        random_state=123456,\n",
    "    )\n",
    "    return x_train, x_test, y_train, y_test  "
   ],
   "metadata": {
    "collapsed": false,
    "ExecuteTime": {
     "end_time": "2024-08-26T19:04:03.359350400Z",
     "start_time": "2024-08-26T19:04:03.293495600Z"
    }
   },
   "id": "782a41c67e2320c0",
   "execution_count": 2
  },
  {
   "cell_type": "markdown",
   "source": [
    "##\n",
    "## Pipe Line\n",
    "##"
   ],
   "metadata": {
    "collapsed": false
   },
   "id": "fe1c5e9777a1a87"
  },
  {
   "cell_type": "code",
   "outputs": [],
   "source": [
    "#Origen codificada como usa,europe o japan\n",
    "\n",
    "def make_pipeline(estimator):\n",
    "\n",
    "    from sklearn.compose import ColumnTransformer\n",
    "    from sklearn.feature_selection import SelectKBest, f_regression\n",
    "    from sklearn.pipeline import Pipeline\n",
    "    from sklearn.preprocessing import OneHotEncoder, StandardScaler\n",
    "\n",
    "    transformer = ColumnTransformer(\n",
    "        transformers=[\n",
    "            (\"ohe\", OneHotEncoder(dtype=\"int\"), [\"Origin\"]),\n",
    "        ],\n",
    "        remainder=StandardScaler(),\n",
    "    )\n",
    "\n",
    "    selectkbest = SelectKBest(score_func=f_regression)\n",
    "\n",
    "    pipeline = Pipeline(\n",
    "        steps=[\n",
    "            (\"tranformer\", transformer),\n",
    "            (\"selectkbest\", selectkbest),\n",
    "            (\"estimator\", estimator),\n",
    "        ],\n",
    "        verbose=False,\n",
    "    )\n",
    "\n",
    "    return pipeline"
   ],
   "metadata": {
    "collapsed": false,
    "ExecuteTime": {
     "end_time": "2024-08-26T19:04:03.372845600Z",
     "start_time": "2024-08-26T19:04:03.359350400Z"
    }
   },
   "id": "b2ce956b9d9db8b5",
   "execution_count": 3
  },
  {
   "cell_type": "markdown",
   "source": [
    "##\n",
    "## Grid\n",
    "##"
   ],
   "metadata": {
    "collapsed": false
   },
   "id": "157eba71b55c3431"
  },
  {
   "cell_type": "code",
   "outputs": [],
   "source": [
    "#En scoring el valor mas alto es el mejor, su definicion no es compatible con la definicion de error, tomamos el negativo\n",
    "\n",
    "def make_grid_search(estimator, param_grid, cv=5):\n",
    "\n",
    "    from sklearn.model_selection import GridSearchCV\n",
    "\n",
    "    grid_search = GridSearchCV(\n",
    "        estimator=estimator,\n",
    "        param_grid=param_grid,\n",
    "        cv=cv,\n",
    "        scoring='neg_mean_absolute_error',\n",
    "    )\n",
    "\n",
    "    return grid_search"
   ],
   "metadata": {
    "collapsed": false,
    "ExecuteTime": {
     "end_time": "2024-08-26T19:04:03.374846300Z",
     "start_time": "2024-08-26T19:04:03.366419Z"
    }
   },
   "id": "3d402d28cf493b41",
   "execution_count": 4
  },
  {
   "cell_type": "code",
   "outputs": [],
   "source": [
    "def save_estimator(estimator):\n",
    "\n",
    "    import pickle\n",
    "\n",
    "    with open(\"estimator.pickle\", \"wb\") as file:\n",
    "        pickle.dump(estimator, file)"
   ],
   "metadata": {
    "collapsed": false,
    "ExecuteTime": {
     "end_time": "2024-08-26T19:04:03.380002Z",
     "start_time": "2024-08-26T19:04:03.372845600Z"
    }
   },
   "id": "c4ddab424efe6f8f",
   "execution_count": 5
  },
  {
   "cell_type": "code",
   "outputs": [],
   "source": [
    "def load_estimator():\n",
    "\n",
    "    import os\n",
    "    import pickle\n",
    "\n",
    "    if not os.path.exists(\"estimator.pickle\"):\n",
    "        return None\n",
    "    with open(\"estimator.pickle\", \"rb\") as file:\n",
    "        estimator = pickle.load(file)\n",
    "\n",
    "    return estimator"
   ],
   "metadata": {
    "collapsed": false,
    "ExecuteTime": {
     "end_time": "2024-08-26T19:04:03.432848200Z",
     "start_time": "2024-08-26T19:04:03.379001500Z"
    }
   },
   "id": "71ef81ae2090af23",
   "execution_count": 6
  },
  {
   "cell_type": "code",
   "outputs": [],
   "source": [
    "def train_linear_regression():\n",
    "\n",
    "    from sklearn.linear_model import LinearRegression\n",
    "    from sklearn.metrics import mean_absolute_error\n",
    "    \n",
    "\n",
    "    data, target = load_data()\n",
    "\n",
    "    x_train, x_test, y_train, y_test = make_train_test_split(\n",
    "        x=data,\n",
    "        y=target,\n",
    "    )\n",
    "\n",
    "    pipeline = make_pipeline(\n",
    "        estimator=LinearRegression(),\n",
    "    )\n",
    "\n",
    "    estimator = make_grid_search(\n",
    "        estimator=pipeline,\n",
    "        param_grid={\n",
    "            \"selectkbest__k\": range(1, len(x_train.columns) + 1),\n",
    "        },\n",
    "        cv=5,\n",
    "    )\n",
    "\n",
    "    estimator.fit(x_train, y_train)\n",
    "\n",
    "    best_estimator = load_estimator()\n",
    "\n",
    "    if best_estimator is not None:\n",
    "\n",
    "        saved_mae = mean_absolute_error(\n",
    "            y_true=y_test, y_pred=best_estimator.predict(x_test)\n",
    "        )\n",
    "\n",
    "        current_mae = mean_absolute_error(\n",
    "            y_true=y_test, y_pred=estimator.predict(x_test)\n",
    "        )\n",
    "\n",
    "        if saved_mae < current_mae:\n",
    "            estimator = best_estimator\n",
    "\n",
    "    save_estimator(estimator)\n",
    "\n",
    "\n",
    "train_linear_regression()"
   ],
   "metadata": {
    "collapsed": false,
    "ExecuteTime": {
     "end_time": "2024-08-26T19:04:08.785474700Z",
     "start_time": "2024-08-26T19:04:03.388813900Z"
    }
   },
   "id": "afcd79dd50e9cb90",
   "execution_count": 7
  },
  {
   "cell_type": "code",
   "outputs": [],
   "source": [
    "def eval_metrics(y_true, y_pred):\n",
    "\n",
    "    from sklearn.metrics import mean_absolute_error, mean_squared_error, r2_score\n",
    "\n",
    "    mse = mean_squared_error(y_true, y_pred)\n",
    "    mae = mean_absolute_error(y_true, y_pred)\n",
    "    r2 = r2_score(y_true, y_pred)\n",
    "\n",
    "    return mse, mae, r2"
   ],
   "metadata": {
    "collapsed": false,
    "ExecuteTime": {
     "end_time": "2024-08-26T19:04:08.791353300Z",
     "start_time": "2024-08-26T19:04:08.787840400Z"
    }
   },
   "id": "f9ef0d25ddb7a169",
   "execution_count": 8
  },
  {
   "cell_type": "code",
   "outputs": [],
   "source": [
    "def report(estimator, mse, mae, r2):\n",
    "\n",
    "    print(estimator, \":\", sep=\"\")\n",
    "    print(f\"  MSE: {mse}\")\n",
    "    print(f\"  MAE: {mae}\")\n",
    "    print(f\"   R2: {r2}\")"
   ],
   "metadata": {
    "collapsed": false,
    "ExecuteTime": {
     "end_time": "2024-08-26T19:04:10.471349200Z",
     "start_time": "2024-08-26T19:04:08.793351900Z"
    }
   },
   "id": "e2e907d9e1ff7d5c",
   "execution_count": 9
  },
  {
   "cell_type": "code",
   "outputs": [
    {
     "name": "stdout",
     "output_type": "stream",
     "text": [
      "Pipeline(steps=[('tranformer',\n",
      "                 ColumnTransformer(remainder=StandardScaler(),\n",
      "                                   transformers=[('ohe',\n",
      "                                                  OneHotEncoder(dtype='int'),\n",
      "                                                  ['Origin'])])),\n",
      "                ('selectkbest',\n",
      "                 SelectKBest(k=6,\n",
      "                             score_func=<function f_regression at 0x000002C8BE9F09A0>)),\n",
      "                ('estimator',\n",
      "                 MLPRegressor(hidden_layer_sizes=(10,), learning_rate_init=0.01,\n",
      "                              max_iter=30000))]):\n",
      "  MSE: 7.396807782022628\n",
      "  MAE: 1.9581494978827103\n",
      "   R2: 0.8735477948775391\n"
     ]
    }
   ],
   "source": [
    "def check_estimator():\n",
    "\n",
    "    import pickle\n",
    "\n",
    "    import pandas as pd\n",
    "    from sklearn.metrics import mean_absolute_error, mean_squared_error, r2_score\n",
    "\n",
    "    data, target = load_data()\n",
    "\n",
    "    x_train, x_test, y_train_true, y_test_true = make_train_test_split(\n",
    "        x=data,\n",
    "        y=target,\n",
    "    )\n",
    "\n",
    "    estimator = load_estimator()\n",
    "\n",
    "    mse, mae, r2 = eval_metrics(\n",
    "        y_test_true,\n",
    "        estimator.predict(x_test),\n",
    "    )\n",
    "\n",
    "    report(estimator.best_estimator_, mse, mae, r2)\n",
    "\n",
    "\n",
    "check_estimator()"
   ],
   "metadata": {
    "collapsed": false,
    "ExecuteTime": {
     "end_time": "2024-08-26T19:04:11.993844100Z",
     "start_time": "2024-08-26T19:04:10.471349200Z"
    }
   },
   "id": "a9ff2817573fdac0",
   "execution_count": 10
  },
  {
   "cell_type": "code",
   "outputs": [
    {
     "name": "stderr",
     "output_type": "stream",
     "text": [
      "C:\\GitHub\\taller-presencial-14-regresion-basica-con-selectkbest-JPS1217\\.venv\\Lib\\site-packages\\sklearn\\neural_network\\_multilayer_perceptron.py:690: ConvergenceWarning: Stochastic Optimizer: Maximum iterations (30000) reached and the optimization hasn't converged yet.\n",
      "  warnings.warn(\n",
      "C:\\GitHub\\taller-presencial-14-regresion-basica-con-selectkbest-JPS1217\\.venv\\Lib\\site-packages\\sklearn\\neural_network\\_multilayer_perceptron.py:690: ConvergenceWarning: Stochastic Optimizer: Maximum iterations (30000) reached and the optimization hasn't converged yet.\n",
      "  warnings.warn(\n",
      "C:\\GitHub\\taller-presencial-14-regresion-basica-con-selectkbest-JPS1217\\.venv\\Lib\\site-packages\\sklearn\\neural_network\\_multilayer_perceptron.py:690: ConvergenceWarning: Stochastic Optimizer: Maximum iterations (30000) reached and the optimization hasn't converged yet.\n",
      "  warnings.warn(\n",
      "C:\\GitHub\\taller-presencial-14-regresion-basica-con-selectkbest-JPS1217\\.venv\\Lib\\site-packages\\sklearn\\neural_network\\_multilayer_perceptron.py:690: ConvergenceWarning: Stochastic Optimizer: Maximum iterations (30000) reached and the optimization hasn't converged yet.\n",
      "  warnings.warn(\n",
      "C:\\GitHub\\taller-presencial-14-regresion-basica-con-selectkbest-JPS1217\\.venv\\Lib\\site-packages\\sklearn\\neural_network\\_multilayer_perceptron.py:690: ConvergenceWarning: Stochastic Optimizer: Maximum iterations (30000) reached and the optimization hasn't converged yet.\n",
      "  warnings.warn(\n",
      "C:\\GitHub\\taller-presencial-14-regresion-basica-con-selectkbest-JPS1217\\.venv\\Lib\\site-packages\\sklearn\\neural_network\\_multilayer_perceptron.py:690: ConvergenceWarning: Stochastic Optimizer: Maximum iterations (30000) reached and the optimization hasn't converged yet.\n",
      "  warnings.warn(\n",
      "C:\\GitHub\\taller-presencial-14-regresion-basica-con-selectkbest-JPS1217\\.venv\\Lib\\site-packages\\sklearn\\neural_network\\_multilayer_perceptron.py:690: ConvergenceWarning: Stochastic Optimizer: Maximum iterations (30000) reached and the optimization hasn't converged yet.\n",
      "  warnings.warn(\n",
      "C:\\GitHub\\taller-presencial-14-regresion-basica-con-selectkbest-JPS1217\\.venv\\Lib\\site-packages\\sklearn\\neural_network\\_multilayer_perceptron.py:690: ConvergenceWarning: Stochastic Optimizer: Maximum iterations (30000) reached and the optimization hasn't converged yet.\n",
      "  warnings.warn(\n",
      "C:\\GitHub\\taller-presencial-14-regresion-basica-con-selectkbest-JPS1217\\.venv\\Lib\\site-packages\\sklearn\\neural_network\\_multilayer_perceptron.py:690: ConvergenceWarning: Stochastic Optimizer: Maximum iterations (30000) reached and the optimization hasn't converged yet.\n",
      "  warnings.warn(\n",
      "C:\\GitHub\\taller-presencial-14-regresion-basica-con-selectkbest-JPS1217\\.venv\\Lib\\site-packages\\sklearn\\neural_network\\_multilayer_perceptron.py:690: ConvergenceWarning: Stochastic Optimizer: Maximum iterations (30000) reached and the optimization hasn't converged yet.\n",
      "  warnings.warn(\n",
      "C:\\GitHub\\taller-presencial-14-regresion-basica-con-selectkbest-JPS1217\\.venv\\Lib\\site-packages\\sklearn\\neural_network\\_multilayer_perceptron.py:690: ConvergenceWarning: Stochastic Optimizer: Maximum iterations (30000) reached and the optimization hasn't converged yet.\n",
      "  warnings.warn(\n",
      "C:\\GitHub\\taller-presencial-14-regresion-basica-con-selectkbest-JPS1217\\.venv\\Lib\\site-packages\\sklearn\\neural_network\\_multilayer_perceptron.py:690: ConvergenceWarning: Stochastic Optimizer: Maximum iterations (30000) reached and the optimization hasn't converged yet.\n",
      "  warnings.warn(\n",
      "C:\\GitHub\\taller-presencial-14-regresion-basica-con-selectkbest-JPS1217\\.venv\\Lib\\site-packages\\sklearn\\neural_network\\_multilayer_perceptron.py:690: ConvergenceWarning: Stochastic Optimizer: Maximum iterations (30000) reached and the optimization hasn't converged yet.\n",
      "  warnings.warn(\n",
      "C:\\GitHub\\taller-presencial-14-regresion-basica-con-selectkbest-JPS1217\\.venv\\Lib\\site-packages\\sklearn\\neural_network\\_multilayer_perceptron.py:690: ConvergenceWarning: Stochastic Optimizer: Maximum iterations (30000) reached and the optimization hasn't converged yet.\n",
      "  warnings.warn(\n",
      "C:\\GitHub\\taller-presencial-14-regresion-basica-con-selectkbest-JPS1217\\.venv\\Lib\\site-packages\\sklearn\\neural_network\\_multilayer_perceptron.py:690: ConvergenceWarning: Stochastic Optimizer: Maximum iterations (30000) reached and the optimization hasn't converged yet.\n",
      "  warnings.warn(\n",
      "C:\\GitHub\\taller-presencial-14-regresion-basica-con-selectkbest-JPS1217\\.venv\\Lib\\site-packages\\sklearn\\neural_network\\_multilayer_perceptron.py:690: ConvergenceWarning: Stochastic Optimizer: Maximum iterations (30000) reached and the optimization hasn't converged yet.\n",
      "  warnings.warn(\n",
      "C:\\GitHub\\taller-presencial-14-regresion-basica-con-selectkbest-JPS1217\\.venv\\Lib\\site-packages\\sklearn\\neural_network\\_multilayer_perceptron.py:690: ConvergenceWarning: Stochastic Optimizer: Maximum iterations (30000) reached and the optimization hasn't converged yet.\n",
      "  warnings.warn(\n",
      "C:\\GitHub\\taller-presencial-14-regresion-basica-con-selectkbest-JPS1217\\.venv\\Lib\\site-packages\\sklearn\\neural_network\\_multilayer_perceptron.py:690: ConvergenceWarning: Stochastic Optimizer: Maximum iterations (30000) reached and the optimization hasn't converged yet.\n",
      "  warnings.warn(\n",
      "C:\\GitHub\\taller-presencial-14-regresion-basica-con-selectkbest-JPS1217\\.venv\\Lib\\site-packages\\sklearn\\neural_network\\_multilayer_perceptron.py:690: ConvergenceWarning: Stochastic Optimizer: Maximum iterations (30000) reached and the optimization hasn't converged yet.\n",
      "  warnings.warn(\n",
      "C:\\GitHub\\taller-presencial-14-regresion-basica-con-selectkbest-JPS1217\\.venv\\Lib\\site-packages\\sklearn\\neural_network\\_multilayer_perceptron.py:690: ConvergenceWarning: Stochastic Optimizer: Maximum iterations (30000) reached and the optimization hasn't converged yet.\n",
      "  warnings.warn(\n",
      "C:\\GitHub\\taller-presencial-14-regresion-basica-con-selectkbest-JPS1217\\.venv\\Lib\\site-packages\\sklearn\\neural_network\\_multilayer_perceptron.py:690: ConvergenceWarning: Stochastic Optimizer: Maximum iterations (30000) reached and the optimization hasn't converged yet.\n",
      "  warnings.warn(\n",
      "C:\\GitHub\\taller-presencial-14-regresion-basica-con-selectkbest-JPS1217\\.venv\\Lib\\site-packages\\sklearn\\neural_network\\_multilayer_perceptron.py:690: ConvergenceWarning: Stochastic Optimizer: Maximum iterations (30000) reached and the optimization hasn't converged yet.\n",
      "  warnings.warn(\n",
      "C:\\GitHub\\taller-presencial-14-regresion-basica-con-selectkbest-JPS1217\\.venv\\Lib\\site-packages\\sklearn\\neural_network\\_multilayer_perceptron.py:690: ConvergenceWarning: Stochastic Optimizer: Maximum iterations (30000) reached and the optimization hasn't converged yet.\n",
      "  warnings.warn(\n",
      "C:\\GitHub\\taller-presencial-14-regresion-basica-con-selectkbest-JPS1217\\.venv\\Lib\\site-packages\\sklearn\\neural_network\\_multilayer_perceptron.py:690: ConvergenceWarning: Stochastic Optimizer: Maximum iterations (30000) reached and the optimization hasn't converged yet.\n",
      "  warnings.warn(\n",
      "C:\\GitHub\\taller-presencial-14-regresion-basica-con-selectkbest-JPS1217\\.venv\\Lib\\site-packages\\sklearn\\neural_network\\_multilayer_perceptron.py:690: ConvergenceWarning: Stochastic Optimizer: Maximum iterations (30000) reached and the optimization hasn't converged yet.\n",
      "  warnings.warn(\n",
      "C:\\GitHub\\taller-presencial-14-regresion-basica-con-selectkbest-JPS1217\\.venv\\Lib\\site-packages\\sklearn\\neural_network\\_multilayer_perceptron.py:690: ConvergenceWarning: Stochastic Optimizer: Maximum iterations (30000) reached and the optimization hasn't converged yet.\n",
      "  warnings.warn(\n",
      "C:\\GitHub\\taller-presencial-14-regresion-basica-con-selectkbest-JPS1217\\.venv\\Lib\\site-packages\\sklearn\\neural_network\\_multilayer_perceptron.py:690: ConvergenceWarning: Stochastic Optimizer: Maximum iterations (30000) reached and the optimization hasn't converged yet.\n",
      "  warnings.warn(\n",
      "C:\\GitHub\\taller-presencial-14-regresion-basica-con-selectkbest-JPS1217\\.venv\\Lib\\site-packages\\sklearn\\neural_network\\_multilayer_perceptron.py:690: ConvergenceWarning: Stochastic Optimizer: Maximum iterations (30000) reached and the optimization hasn't converged yet.\n",
      "  warnings.warn(\n",
      "C:\\GitHub\\taller-presencial-14-regresion-basica-con-selectkbest-JPS1217\\.venv\\Lib\\site-packages\\sklearn\\neural_network\\_multilayer_perceptron.py:697: UserWarning: Training interrupted by user.\n",
      "  warnings.warn(\"Training interrupted by user.\")\n",
      "C:\\GitHub\\taller-presencial-14-regresion-basica-con-selectkbest-JPS1217\\.venv\\Lib\\site-packages\\sklearn\\neural_network\\_multilayer_perceptron.py:697: UserWarning: Training interrupted by user.\n",
      "  warnings.warn(\"Training interrupted by user.\")\n",
      "C:\\GitHub\\taller-presencial-14-regresion-basica-con-selectkbest-JPS1217\\.venv\\Lib\\site-packages\\sklearn\\neural_network\\_multilayer_perceptron.py:697: UserWarning: Training interrupted by user.\n",
      "  warnings.warn(\"Training interrupted by user.\")\n",
      "C:\\GitHub\\taller-presencial-14-regresion-basica-con-selectkbest-JPS1217\\.venv\\Lib\\site-packages\\sklearn\\neural_network\\_multilayer_perceptron.py:697: UserWarning: Training interrupted by user.\n",
      "  warnings.warn(\"Training interrupted by user.\")\n",
      "C:\\GitHub\\taller-presencial-14-regresion-basica-con-selectkbest-JPS1217\\.venv\\Lib\\site-packages\\sklearn\\neural_network\\_multilayer_perceptron.py:697: UserWarning: Training interrupted by user.\n",
      "  warnings.warn(\"Training interrupted by user.\")\n",
      "C:\\GitHub\\taller-presencial-14-regresion-basica-con-selectkbest-JPS1217\\.venv\\Lib\\site-packages\\sklearn\\neural_network\\_multilayer_perceptron.py:697: UserWarning: Training interrupted by user.\n",
      "  warnings.warn(\"Training interrupted by user.\")\n",
      "C:\\GitHub\\taller-presencial-14-regresion-basica-con-selectkbest-JPS1217\\.venv\\Lib\\site-packages\\sklearn\\neural_network\\_multilayer_perceptron.py:697: UserWarning: Training interrupted by user.\n",
      "  warnings.warn(\"Training interrupted by user.\")\n",
      "C:\\GitHub\\taller-presencial-14-regresion-basica-con-selectkbest-JPS1217\\.venv\\Lib\\site-packages\\sklearn\\neural_network\\_multilayer_perceptron.py:697: UserWarning: Training interrupted by user.\n",
      "  warnings.warn(\"Training interrupted by user.\")\n",
      "C:\\GitHub\\taller-presencial-14-regresion-basica-con-selectkbest-JPS1217\\.venv\\Lib\\site-packages\\sklearn\\neural_network\\_multilayer_perceptron.py:697: UserWarning: Training interrupted by user.\n",
      "  warnings.warn(\"Training interrupted by user.\")\n",
      "C:\\GitHub\\taller-presencial-14-regresion-basica-con-selectkbest-JPS1217\\.venv\\Lib\\site-packages\\sklearn\\neural_network\\_multilayer_perceptron.py:697: UserWarning: Training interrupted by user.\n",
      "  warnings.warn(\"Training interrupted by user.\")\n",
      "C:\\GitHub\\taller-presencial-14-regresion-basica-con-selectkbest-JPS1217\\.venv\\Lib\\site-packages\\sklearn\\neural_network\\_multilayer_perceptron.py:697: UserWarning: Training interrupted by user.\n",
      "  warnings.warn(\"Training interrupted by user.\")\n",
      "C:\\GitHub\\taller-presencial-14-regresion-basica-con-selectkbest-JPS1217\\.venv\\Lib\\site-packages\\sklearn\\neural_network\\_multilayer_perceptron.py:697: UserWarning: Training interrupted by user.\n",
      "  warnings.warn(\"Training interrupted by user.\")\n",
      "C:\\GitHub\\taller-presencial-14-regresion-basica-con-selectkbest-JPS1217\\.venv\\Lib\\site-packages\\sklearn\\neural_network\\_multilayer_perceptron.py:697: UserWarning: Training interrupted by user.\n",
      "  warnings.warn(\"Training interrupted by user.\")\n",
      "C:\\GitHub\\taller-presencial-14-regresion-basica-con-selectkbest-JPS1217\\.venv\\Lib\\site-packages\\sklearn\\neural_network\\_multilayer_perceptron.py:697: UserWarning: Training interrupted by user.\n",
      "  warnings.warn(\"Training interrupted by user.\")\n",
      "C:\\GitHub\\taller-presencial-14-regresion-basica-con-selectkbest-JPS1217\\.venv\\Lib\\site-packages\\sklearn\\neural_network\\_multilayer_perceptron.py:690: ConvergenceWarning: Stochastic Optimizer: Maximum iterations (30000) reached and the optimization hasn't converged yet.\n",
      "  warnings.warn(\n",
      "C:\\GitHub\\taller-presencial-14-regresion-basica-con-selectkbest-JPS1217\\.venv\\Lib\\site-packages\\sklearn\\neural_network\\_multilayer_perceptron.py:690: ConvergenceWarning: Stochastic Optimizer: Maximum iterations (30000) reached and the optimization hasn't converged yet.\n",
      "  warnings.warn(\n"
     ]
    }
   ],
   "source": [
    "def train_mlp_regressor():\n",
    "\n",
    "    from sklearn.neural_network import MLPRegressor\n",
    "    from sklearn.metrics import mean_absolute_error\n",
    "\n",
    "    data, target = load_data()\n",
    "\n",
    "    x_train, x_test, y_train, y_test = make_train_test_split(\n",
    "        x=data,\n",
    "        y=target,\n",
    "    )\n",
    "\n",
    "    pipeline = make_pipeline(\n",
    "        estimator=MLPRegressor(max_iter=30000),\n",
    "    )\n",
    "\n",
    "    estimator = make_grid_search(\n",
    "        estimator=pipeline,\n",
    "        param_grid={\n",
    "            \"selectkbest__k\": range(1, len(x_train.columns) + 1),\n",
    "            \"estimator__hidden_layer_sizes\": [(n,) for n in range(1, 11)],\n",
    "            \"estimator__solver\": [\"adam\"],\n",
    "            \"estimator__learning_rate_init\": [0.01, 0.001, 0.0001],\n",
    "        },\n",
    "        cv=5,\n",
    "    )\n",
    "\n",
    "    estimator.fit(x_train, y_train)\n",
    "\n",
    "    best_estimator = load_estimator()\n",
    "\n",
    "    if best_estimator is not None:\n",
    "\n",
    "        saved_mae = mean_absolute_error(\n",
    "            y_true=y_test, y_pred=best_estimator.predict(x_test)\n",
    "        )\n",
    "\n",
    "        current_mae = mean_absolute_error(\n",
    "            y_true=y_test, y_pred=estimator.predict(x_test)\n",
    "        )\n",
    "\n",
    "        if saved_mae < current_mae:\n",
    "            estimator = best_estimator\n",
    "\n",
    "    save_estimator(estimator)\n",
    "\n",
    "\n",
    "train_mlp_regressor()\n",
    "check_estimator()"
   ],
   "metadata": {
    "collapsed": false,
    "is_executing": true,
    "ExecuteTime": {
     "start_time": "2024-08-26T19:04:11.992833900Z"
    }
   },
   "id": "f123ef4c3a8424ad"
  }
 ],
 "metadata": {
  "kernelspec": {
   "display_name": "Python 3",
   "language": "python",
   "name": "python3"
  },
  "language_info": {
   "codemirror_mode": {
    "name": "ipython",
    "version": 2
   },
   "file_extension": ".py",
   "mimetype": "text/x-python",
   "name": "python",
   "nbconvert_exporter": "python",
   "pygments_lexer": "ipython2",
   "version": "2.7.6"
  }
 },
 "nbformat": 4,
 "nbformat_minor": 5
}
